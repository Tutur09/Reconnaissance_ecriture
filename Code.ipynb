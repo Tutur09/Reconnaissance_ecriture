{
 "cells": [
  {
   "cell_type": "code",
   "execution_count": 2,
   "metadata": {},
   "outputs": [
    {
     "ename": "ModuleNotFoundError",
     "evalue": "No module named 'tensorflow.python'",
     "output_type": "error",
     "traceback": [
      "\u001b[1;31m---------------------------------------------------------------------------\u001b[0m",
      "\u001b[1;31mModuleNotFoundError\u001b[0m                       Traceback (most recent call last)",
      "Cell \u001b[1;32mIn[2], line 1\u001b[0m\n\u001b[1;32m----> 1\u001b[0m \u001b[38;5;28;01mimport\u001b[39;00m \u001b[38;5;21;01mtensorflow\u001b[39;00m \u001b[38;5;28;01mas\u001b[39;00m \u001b[38;5;21;01mtf\u001b[39;00m\n\u001b[0;32m      2\u001b[0m \u001b[38;5;28;01mimport\u001b[39;00m \u001b[38;5;21;01mtensorflow_datasets\u001b[39;00m \u001b[38;5;28;01mas\u001b[39;00m \u001b[38;5;21;01mtfds\u001b[39;00m\n\u001b[0;32m      3\u001b[0m \u001b[38;5;28;01mimport\u001b[39;00m \u001b[38;5;21;01mnumpy\u001b[39;00m \u001b[38;5;28;01mas\u001b[39;00m \u001b[38;5;21;01mnp\u001b[39;00m\n",
      "File \u001b[1;32m~\\AppData\\Roaming\\Python\\Python311\\site-packages\\tensorflow\\__init__.py:37\u001b[0m\n\u001b[0;32m     34\u001b[0m \u001b[38;5;28;01mimport\u001b[39;00m \u001b[38;5;21;01msite\u001b[39;00m \u001b[38;5;28;01mas\u001b[39;00m \u001b[38;5;21;01m_site\u001b[39;00m\n\u001b[0;32m     35\u001b[0m \u001b[38;5;28;01mimport\u001b[39;00m \u001b[38;5;21;01msys\u001b[39;00m \u001b[38;5;28;01mas\u001b[39;00m \u001b[38;5;21;01m_sys\u001b[39;00m\n\u001b[1;32m---> 37\u001b[0m \u001b[38;5;28;01mfrom\u001b[39;00m \u001b[38;5;21;01mtensorflow\u001b[39;00m\u001b[38;5;21;01m.\u001b[39;00m\u001b[38;5;21;01mpython\u001b[39;00m\u001b[38;5;21;01m.\u001b[39;00m\u001b[38;5;21;01mtools\u001b[39;00m \u001b[38;5;28;01mimport\u001b[39;00m module_util \u001b[38;5;28;01mas\u001b[39;00m _module_util\n\u001b[0;32m     38\u001b[0m \u001b[38;5;28;01mfrom\u001b[39;00m \u001b[38;5;21;01mtensorflow\u001b[39;00m\u001b[38;5;21;01m.\u001b[39;00m\u001b[38;5;21;01mpython\u001b[39;00m\u001b[38;5;21;01m.\u001b[39;00m\u001b[38;5;21;01mutil\u001b[39;00m\u001b[38;5;21;01m.\u001b[39;00m\u001b[38;5;21;01mlazy_loader\u001b[39;00m \u001b[38;5;28;01mimport\u001b[39;00m KerasLazyLoader \u001b[38;5;28;01mas\u001b[39;00m _KerasLazyLoader\n\u001b[0;32m     40\u001b[0m \u001b[38;5;66;03m# Make sure code inside the TensorFlow codebase can use tf2.enabled() at import.\u001b[39;00m\n",
      "\u001b[1;31mModuleNotFoundError\u001b[0m: No module named 'tensorflow.python'"
     ]
    }
   ],
   "source": [
    "import tensorflow as tf\n",
    "import tensorflow_datasets as tfds\n",
    "import numpy as np\n",
    "import matplotlib.pyplot as plt\n",
    "\n",
    "# Définition des classes pour les couches du réseau\n",
    "class Layer_Dense:\n",
    "    def __init__(self, n_inputs, n_neurons):\n",
    "        self.weights = 0.10 * np.random.randn(n_inputs, n_neurons)\n",
    "        self.biases = np.zeros((1, n_neurons))\n",
    "        self.lr = 0.1  # Taux d'apprentissage; essayer de modifier mais à voir\n",
    "\n",
    "    def forward(self, inputs):\n",
    "        self.inputs = inputs\n",
    "        self.output = np.dot(inputs, self.weights) + self.biases\n",
    "\n",
    "    def backward(self, valeur_deriv):\n",
    "        self.dweights = np.dot(self.inputs.T, valeur_deriv)\n",
    "        self.dbiases = np.sum(valeur_deriv, axis=0, keepdims=True)\n",
    "        self.dinputs = np.dot(valeur_deriv, self.weights.T)\n",
    "\n",
    "    def update_params(self):\n",
    "        self.weights -= self.lr * self.dweights\n",
    "        self.biases -= self.lr * self.dbiases\n",
    "\n",
    "class Activation_ReLU:\n",
    "    def forward(self, inputs):\n",
    "        self.inputs = inputs\n",
    "        self.output = np.maximum(0, inputs)\n",
    "\n",
    "    def backward(self, valeur_deriv):\n",
    "        self.dinputs = valeur_deriv.copy()\n",
    "        self.dinputs[self.inputs <= 0] = 0\n",
    "\n",
    "class Activation_Softmax:\n",
    "    def forward(self, inputs):\n",
    "        exp_values = np.exp(inputs - np.max(inputs, axis=1, keepdims=True))\n",
    "        self.output = exp_values / np.sum(exp_values, axis=1, keepdims=True)\n",
    "\n",
    "    def backward(self, valeur_deriv):\n",
    "        self.dinputs = np.empty_like(valeur_deriv)\n",
    "        for index, (single_output, valeur_single_deriv) in enumerate(zip(self.output, valeur_deriv)):\n",
    "            single_output = single_output.reshape(-1, 1)\n",
    "            jacobian_matrix = np.diagflat(single_output) - np.dot(single_output, single_output.T)\n",
    "            self.dinputs[index] = np.dot(jacobian_matrix, valeur_single_deriv)\n",
    "\n",
    "class Loss_CategoricalCrossentropy:\n",
    "    def forward(self, y_pred, y_true):\n",
    "        samples = len(y_pred)\n",
    "        y_pred_clipped = np.clip(y_pred, 1e-7, 1 - 1e-7)\n",
    "\n",
    "        if len(y_true.shape) == 1:\n",
    "            correct_confidences = y_pred_clipped[range(samples), y_true]\n",
    "        elif len(y_true.shape) == 2:\n",
    "            correct_confidences = np.sum(y_pred_clipped * y_true, axis=1)\n",
    "\n",
    "        negative_log_likelihoods = -np.log(correct_confidences)\n",
    "        return np.mean(negative_log_likelihoods)\n",
    "\n",
    "    def backward(self, valeur_deriv, y_true):\n",
    "        samples = len(valeur_deriv)\n",
    "        labels = len(valeur_deriv[0])\n",
    "\n",
    "        if len(y_true.shape) == 1:\n",
    "            y_true = np.eye(labels)[y_true]\n",
    "\n",
    "        self.dinputs = -y_true / valeur_deriv\n",
    "        self.dinputs = self.dinputs / samples\n"
   ]
  },
  {
   "cell_type": "code",
   "execution_count": null,
   "metadata": {},
   "outputs": [
    {
     "name": "stdout",
     "output_type": "stream",
     "text": [
      "[[0. 0. 0. ... 0. 0. 0.]\n",
      " [0. 0. 0. ... 0. 0. 0.]\n",
      " [0. 0. 0. ... 0. 0. 0.]\n",
      " ...\n",
      " [0. 0. 0. ... 0. 0. 0.]\n",
      " [0. 0. 0. ... 0. 0. 0.]\n",
      " [0. 0. 0. ... 0. 0. 0.]] [5 0 4 ... 5 6 8]\n"
     ]
    }
   ],
   "source": [
    "# Chargement des données MNIST\n",
    "def load_data():\n",
    "    (x_train, y_train), (x_test, y_test) = tf.keras.datasets.mnist.load_data()\n",
    "\n",
    "    x_train = x_train.reshape(x_train.shape[0], -1) / 255.0\n",
    "    x_test = x_test.reshape(x_test.shape[0], -1) / 255.0\n",
    "    return (x_train, y_train), (x_test, y_test)\n",
    "\n",
    "(x_train, y_train), (x_test, y_test) = load_data()\n",
    "\n",
    "print(x_train, y_train)"
   ]
  },
  {
   "cell_type": "code",
   "execution_count": null,
   "metadata": {},
   "outputs": [],
   "source": [
    "#Définition du réseau\n",
    "layer1 = Layer_Dense(784, 128)  # 784 = 28*28\n",
    "activation1 = Activation_ReLU()\n",
    "layer2 = Layer_Dense(128, 10)\n",
    "activation2 = Activation_Softmax()"
   ]
  },
  {
   "cell_type": "code",
   "execution_count": null,
   "metadata": {},
   "outputs": [
    {
     "name": "stdout",
     "output_type": "stream",
     "text": [
      "Epoch 1, Loss: 0.3445035974340264\n"
     ]
    }
   ],
   "source": [
    "#Entrainement du réseau\n",
    "for epoch in range(1): \n",
    "    for batch in range(len(x_train)//100):  \n",
    "        batch_x = x_train[batch*100:(batch+1)*100]\n",
    "        batch_y = y_train[batch*100:(batch+1)*100]\n",
    "\n",
    "        # Propagation avant\n",
    "        layer1.forward(batch_x)\n",
    "        activation1.forward(layer1.output)\n",
    "        layer2.forward(activation1.output)\n",
    "        activation2.forward(layer2.output)\n",
    "\n",
    "        # Calcul de la perte\n",
    "        loss_function = Loss_CategoricalCrossentropy()\n",
    "        \n",
    "        loss = loss_function.forward(activation2.output, batch_y)\n",
    "\n",
    "        # Rétropropagation\n",
    "        loss_function.backward(activation2.output, batch_y)\n",
    "        activation2.backward(loss_function.dinputs)\n",
    "        layer2.backward(activation2.dinputs)\n",
    "        activation1.backward(layer2.dinputs)\n",
    "        layer1.backward(activation1.dinputs)\n",
    "\n",
    "        # Mise à jour des paramètres\n",
    "        layer1.update_params()\n",
    "        layer2.update_params()\n",
    "\n",
    "    print(f'Epoch {epoch + 1}, Loss: {loss}')"
   ]
  },
  {
   "cell_type": "code",
   "execution_count": 8,
   "metadata": {},
   "outputs": [
    {
     "data": {
      "image/png": "[encoded data removed]",
      "text/plain": [
       "<Figure size 640x480 with 1 Axes>"
      ]
     },
     "metadata": {},
     "output_type": "display_data"
    }
   ],
   "source": [
    "def preprocess_image(image_path):\n",
    "    image = tf.io.read_file(image_path)\n",
    "    # Décoder explicitement en une image RGB (même si elle sera convertie en niveaux de gris)\n",
    "    image = tf.image.decode_jpeg(image, channels=3)\n",
    "    image = tf.image.resize(image, [28, 28])\n",
    "    image = tf.image.rgb_to_grayscale(image)\n",
    "    \n",
    "    image = np.array(image, dtype=np.float32) / 255.0\n",
    "    \n",
    "    image = 1.0 - image #Faut inverser les couleurs sinon ça marche pas car entrainé sur fond noir\n",
    "    image = image.reshape(1, 784) \n",
    "    return image\n",
    "\n",
    "image_path = r'C:\\Users\\arthu\\OneDrive\\Arthur\\Programmation\\Python\\Reconnaissance_ecriture\\Lettres\\1.jpg'\n",
    "image = preprocess_image(image_path)\n",
    "\n",
    "plt.imshow(image.reshape(28, 28), cmap='gray')\n",
    "plt.title(\"Processed Image\")\n",
    "plt.show()"
   ]
  },
  {
   "cell_type": "code",
   "execution_count": 6,
   "metadata": {},
   "outputs": [
    {
     "name": "stdout",
     "output_type": "stream",
     "text": [
      "WARNING:tensorflow:From c:\\Users\\arthu\\AppData\\Local\\Programs\\Python\\Python311\\Lib\\site-packages\\tensorflow_datasets\\core\\dataset_builder.py:944: The name tf.data.get_output_shapes is deprecated. Please use tf.compat.v1.data.get_output_shapes instead.\n",
      "\n"
     ]
    },
    {
     "name": "stderr",
     "output_type": "stream",
     "text": [
      "WARNING:tensorflow:From c:\\Users\\arthu\\AppData\\Local\\Programs\\Python\\Python311\\Lib\\site-packages\\tensorflow_datasets\\core\\dataset_builder.py:944: The name tf.data.get_output_shapes is deprecated. Please use tf.compat.v1.data.get_output_shapes instead.\n",
      "\n"
     ]
    }
   ],
   "source": [
    "ds = tfds.load('mnist', split='test', as_supervised=True, batch_size=1)\n",
    "ds = ds.take(10)  # Prendre une seule image pour tester\n",
    "\n",
    "for image, label in tfds.as_numpy(ds):\n",
    "    test_image = image[0]  # Récupérer l'image\n",
    "    test_label = label[0]  # Récup label de l'image\n",
    "\n",
    "image = test_image.reshape(1, 784) / 255.0 "
   ]
  },
  {
   "cell_type": "code",
   "execution_count": 7,
   "metadata": {},
   "outputs": [
    {
     "name": "stdout",
     "output_type": "stream",
     "text": [
      "Probabilités prédites pour chaque classe : [[1.48272440e-06 9.92052166e-01 3.16884887e-03 1.51612464e-03\n",
      "  5.03864567e-06 3.29936102e-04 2.13970151e-04 1.92565652e-04\n",
      "  2.46548818e-03 5.43791139e-05]]\n",
      "Classe prédite : 1\n"
     ]
    },
    {
     "data": {
      "image/png": "[encoded data removed]",
      "text/plain": [
       "<Figure size 640x480 with 1 Axes>"
      ]
     },
     "metadata": {},
     "output_type": "display_data"
    }
   ],
   "source": [
    "# Propagation avant pour obtenir les prédictions\n",
    "layer1.forward(image)\n",
    "activation1.forward(layer1.output)\n",
    "layer2.forward(activation1.output)\n",
    "activation2.forward(layer2.output)\n",
    "\n",
    "# Affichage de la sortie\n",
    "predicted_probabilities = activation2.output\n",
    "predicted_class = np.argmax(predicted_probabilities)\n",
    "\n",
    "print(f\"Probabilités prédites pour chaque classe : {predicted_probabilities}\")\n",
    "print(f\"Classe prédite : {predicted_class}\")\n",
    "\n",
    "plt.imshow(image.reshape(28, 28), cmap='gray')  # Mise de l'image sous forme de 28x28\n",
    "plt.title(f'Classe prédite : {predicted_class}')\n",
    "plt.show()\n"
   ]
  }
 ],
 "metadata": {
  "kernelspec": {
   "display_name": "Python 3",
   "language": "python",
   "name": "python3"
  },
  "language_info": {
   "codemirror_mode": {
    "name": "ipython",
    "version": 3
   },
   "file_extension": ".py",
   "mimetype": "text/x-python",
   "name": "python",
   "nbconvert_exporter": "python",
   "pygments_lexer": "ipython3",
   "version": "3.11.9"
  }
 },
 "nbformat": 4,
 "nbformat_minor": 2
}
